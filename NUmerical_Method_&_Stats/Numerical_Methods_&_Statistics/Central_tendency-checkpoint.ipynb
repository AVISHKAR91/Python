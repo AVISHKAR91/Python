{
 "cells": [
  {
   "cell_type": "markdown",
   "id": "744aa559",
   "metadata": {},
   "source": [
    "# Central Tendency"
   ]
  },
  {
   "cell_type": "code",
   "execution_count": 1,
   "id": "82b13f54",
   "metadata": {},
   "outputs": [],
   "source": [
    "# Central Tendency\n",
    "import pandas as pd\n",
    "\n",
    "data = {'x': pd.Series([37,33,33,32,29,28,28,18,18,18,18,16,15,6,3,4,5])}"
   ]
  },
  {
   "cell_type": "code",
   "execution_count": 2,
   "id": "9e18e7cc",
   "metadata": {},
   "outputs": [],
   "source": [
    "df = pd.DataFrame(data)"
   ]
  },
  {
   "cell_type": "code",
   "execution_count": 3,
   "id": "b48f9f40",
   "metadata": {},
   "outputs": [
    {
     "name": "stdout",
     "output_type": "stream",
     "text": [
      "     x\n",
      "0   37\n",
      "1   33\n",
      "2   33\n",
      "3   32\n",
      "4   29\n",
      "5   28\n",
      "6   28\n",
      "7   18\n",
      "8   18\n",
      "9   18\n",
      "10  18\n",
      "11  16\n",
      "12  15\n",
      "13   6\n",
      "14   3\n",
      "15   4\n",
      "16   5\n"
     ]
    }
   ],
   "source": [
    "print(df)\n"
   ]
  },
  {
   "cell_type": "code",
   "execution_count": 4,
   "id": "865f985b",
   "metadata": {},
   "outputs": [
    {
     "name": "stdout",
     "output_type": "stream",
     "text": [
      "Mean Values in the Distribution\n",
      "x    20.058824\n",
      "dtype: float64\n",
      "*******************************\n",
      "Median Values in the Distribution\n",
      "x    18.0\n",
      "dtype: float64\n",
      "Mode Values in the Distribution\n",
      "    x\n",
      "0  18\n"
     ]
    }
   ],
   "source": [
    "print (\"Mean Values in the Distribution\")\n",
    "print (df.mean())\n",
    "print (\"*******************************\")\n",
    "print (\"Median Values in the Distribution\")\n",
    "print (df.median())\n",
    "print (\"Mode Values in the Distribution\")\n",
    "print (df.mode())"
   ]
  },
  {
   "cell_type": "code",
   "execution_count": 5,
   "id": "991af37f",
   "metadata": {},
   "outputs": [
    {
     "name": "stdout",
     "output_type": "stream",
     "text": [
      "[13.   19.75 41.   48.5  72.  ]\n",
      "45.3\n"
     ]
    }
   ],
   "source": [
    "#find Quartiles\n",
    "import numpy as np\n",
    "values = [13,20,19,40,42,48,50,72]\n",
    "\n",
    "x= np.quantile(values, [0,0.25,0.5,0.75,1])\n",
    "y = np.percentile(values, 65)\n",
    "print(x)\n",
    "print(y)"
   ]
  },
  {
   "cell_type": "code",
   "execution_count": 6,
   "id": "ce285b8d",
   "metadata": {},
   "outputs": [
    {
     "name": "stdout",
     "output_type": "stream",
     "text": [
      "28.75\n"
     ]
    }
   ],
   "source": [
    "from scipy import stats\n",
    "\n",
    "values = [13,21,21,40,42,48,55,72]\n",
    "\n",
    "x = stats.iqr(values)\n",
    "print(x)\n"
   ]
  },
  {
   "cell_type": "code",
   "execution_count": 7,
   "id": "c62033fc",
   "metadata": {},
   "outputs": [
    {
     "name": "stdout",
     "output_type": "stream",
     "text": [
      "[9, 9, 9, 8, 8, 8, 8, 7, 7, 7, 7, 7, 6, 6, 6, 6, 6, 6, 6, 5, 5]\n",
      "Mean is : 6.9523809523809526\n",
      "Varience is:  1.473922902494331\n",
      "Standard deviation is: 1.2140522651411392\n"
     ]
    }
   ],
   "source": [
    "# Standard Deviation\n",
    "data = [ 9,9,9,8,8,8,8,7,7,7,7,7,6,6,6,6,6,6,6,5,5]\n",
    "print(data)\n",
    "print(\"Mean is :\",np.mean(data))\n",
    "print(\"Varience is: \", np.var(data))\n",
    "print(\"Standard deviation is:\", np.std(data))"
   ]
  },
  {
   "cell_type": "code",
   "execution_count": null,
   "id": "2ed1b2bb",
   "metadata": {},
   "outputs": [],
   "source": []
  }
 ],
 "metadata": {
  "kernelspec": {
   "display_name": "Python 3 (ipykernel)",
   "language": "python",
   "name": "python3"
  },
  "language_info": {
   "codemirror_mode": {
    "name": "ipython",
    "version": 3
   },
   "file_extension": ".py",
   "mimetype": "text/x-python",
   "name": "python",
   "nbconvert_exporter": "python",
   "pygments_lexer": "ipython3",
   "version": "3.9.13"
  }
 },
 "nbformat": 4,
 "nbformat_minor": 5
}

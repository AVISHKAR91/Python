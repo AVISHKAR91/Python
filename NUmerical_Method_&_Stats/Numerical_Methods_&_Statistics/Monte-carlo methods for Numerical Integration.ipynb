{
 "cells": [
  {
   "cell_type": "markdown",
   "id": "7a41a591",
   "metadata": {},
   "source": [
    "# Monte-carlo methods for Numerical Integration"
   ]
  },
  {
   "cell_type": "markdown",
   "id": "1a5539e6",
   "metadata": {},
   "source": [
    "# f(x) = x^3 + 6x - x + 17 Between limit a=2, b=5"
   ]
  },
  {
   "cell_type": "code",
   "execution_count": 3,
   "id": "96e39b07",
   "metadata": {},
   "outputs": [],
   "source": [
    "import numpy as np\n",
    "\n",
    "def f(x):\n",
    "    return x*x*x+6*x-x +17\n",
    "\n"
   ]
  },
  {
   "cell_type": "code",
   "execution_count": 7,
   "id": "fda6a501",
   "metadata": {
    "scrolled": true
   },
   "outputs": [],
   "source": [
    "#Random Points\n",
    "rn = np.random.uniform(-2, 5, 1000)\n",
    "xi=[]\n",
    "for i in rn:\n",
    "    xi.append(f(i))\n",
    "    "
   ]
  },
  {
   "cell_type": "code",
   "execution_count": 11,
   "id": "9b12268e",
   "metadata": {},
   "outputs": [],
   "source": [
    "#Area of each rectangle\n",
    "Area = []\n",
    "for h in xi:\n",
    "    Area.append(abs(h)*7)\n",
    "    "
   ]
  },
  {
   "cell_type": "code",
   "execution_count": 9,
   "id": "321cc171",
   "metadata": {},
   "outputs": [
    {
     "data": {
      "text/plain": [
       "329.6212298901164"
      ]
     },
     "execution_count": 9,
     "metadata": {},
     "output_type": "execute_result"
    }
   ],
   "source": [
    "#Avg Area of all rectangle\n",
    "np.mean(Area)"
   ]
  },
  {
   "cell_type": "code",
   "execution_count": null,
   "id": "2122a478",
   "metadata": {},
   "outputs": [],
   "source": []
  }
 ],
 "metadata": {
  "kernelspec": {
   "display_name": "Python 3 (ipykernel)",
   "language": "python",
   "name": "python3"
  },
  "language_info": {
   "codemirror_mode": {
    "name": "ipython",
    "version": 3
   },
   "file_extension": ".py",
   "mimetype": "text/x-python",
   "name": "python",
   "nbconvert_exporter": "python",
   "pygments_lexer": "ipython3",
   "version": "3.9.13"
  }
 },
 "nbformat": 4,
 "nbformat_minor": 5
}

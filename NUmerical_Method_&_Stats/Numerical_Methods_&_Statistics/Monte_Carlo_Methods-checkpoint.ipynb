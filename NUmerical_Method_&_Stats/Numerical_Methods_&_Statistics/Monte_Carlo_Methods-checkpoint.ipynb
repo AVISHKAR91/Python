{
 "cells": [
  {
   "cell_type": "markdown",
   "id": "f87f42f0",
   "metadata": {},
   "source": [
    "# Monte -Carlo Methods"
   ]
  },
  {
   "cell_type": "raw",
   "id": "eea02f6a",
   "metadata": {},
   "source": [
    "# pseudo-random number  generators"
   ]
  },
  {
   "cell_type": "code",
   "execution_count": 3,
   "id": "84192d1a",
   "metadata": {},
   "outputs": [
    {
     "name": "stdout",
     "output_type": "stream",
     "text": [
      "8\t7\t8\t10\t7\t"
     ]
    }
   ],
   "source": [
    "import random\n",
    "from datetime import datetime\n",
    "\n",
    "#passing current time as seed value\n",
    "dt = datetime.now()\n",
    "random.seed(int(dt.strftime('%Y%m%d%H%M%S%f')))\n",
    "for i in range(5):\n",
    "    print(random.randint(0,10), end = \"\\t\")"
   ]
  },
  {
   "cell_type": "raw",
   "id": "c1e55453",
   "metadata": {},
   "source": [
    "# Parallel random number generation\n",
    "--> Generating random number using PRNG across multiple processes(local or distributed)"
   ]
  },
  {
   "cell_type": "code",
   "execution_count": 9,
   "id": "0b8d4e08",
   "metadata": {},
   "outputs": [
    {
     "name": "stdout",
     "output_type": "stream",
     "text": [
      "SeedSequence(\n",
      "    entropy=12345,\n",
      ")\n",
      "\n",
      "[SeedSequence(\n",
      "    entropy=12345,\n",
      "    spawn_key=(0,),\n",
      "), SeedSequence(\n",
      "    entropy=12345,\n",
      "    spawn_key=(1,),\n",
      "), SeedSequence(\n",
      "    entropy=12345,\n",
      "    spawn_key=(2,),\n",
      "), SeedSequence(\n",
      "    entropy=12345,\n",
      "    spawn_key=(3,),\n",
      "), SeedSequence(\n",
      "    entropy=12345,\n",
      "    spawn_key=(4,),\n",
      "), SeedSequence(\n",
      "    entropy=12345,\n",
      "    spawn_key=(5,),\n",
      "), SeedSequence(\n",
      "    entropy=12345,\n",
      "    spawn_key=(6,),\n",
      "), SeedSequence(\n",
      "    entropy=12345,\n",
      "    spawn_key=(7,),\n",
      "), SeedSequence(\n",
      "    entropy=12345,\n",
      "    spawn_key=(8,),\n",
      "), SeedSequence(\n",
      "    entropy=12345,\n",
      "    spawn_key=(9,),\n",
      ")]\t\n",
      "[Generator(PCG64) at 0x274CECECC80, Generator(PCG64) at 0x274CECECF20, Generator(PCG64) at 0x274CECECD60, Generator(PCG64) at 0x274CECECE40, Generator(PCG64) at 0x274CED0ABA0, Generator(PCG64) at 0x274CED0AAC0, Generator(PCG64) at 0x274CED0AD60, Generator(PCG64) at 0x274CED0AE40, Generator(PCG64) at 0x274CED0F040, Generator(PCG64) at 0x274CED0F120]\n",
      "\n",
      "[SeedSequence(\n",
      "    entropy=12345,\n",
      "    spawn_key=(0, 0),\n",
      "), SeedSequence(\n",
      "    entropy=12345,\n",
      "    spawn_key=(0, 1),\n",
      "), SeedSequence(\n",
      "    entropy=12345,\n",
      "    spawn_key=(0, 2),\n",
      "), SeedSequence(\n",
      "    entropy=12345,\n",
      "    spawn_key=(0, 3),\n",
      ")]\n",
      "\n",
      "[Generator(PCG64) at 0x274CED0A660, Generator(PCG64) at 0x274CED0A580, Generator(PCG64) at 0x274CED0A200, Generator(PCG64) at 0x274CED0A040]\n"
     ]
    }
   ],
   "source": [
    "from numpy.random import SeedSequence, default_rng\n",
    "ss = SeedSequence(12345)\n",
    "print(ss)\n",
    "print()\n",
    "# Spawn off 10 child SeedSequences to pass to child processes.\n",
    "child_seeds = ss.spawn(10)\n",
    "print(child_seeds, end=\"\\t\")\n",
    "print()\n",
    "streams = [default_rng(s) for s in child_seeds]\n",
    "print(streams)\n",
    "print()\n",
    "\n",
    "grandchildren = child_seeds[0].spawn(4)\n",
    "print(grandchildren)\n",
    "print()\n",
    "\n",
    "grand_streams = [default_rng(s) for s in grandchildren]\n",
    "print(grand_streams)\n"
   ]
  },
  {
   "cell_type": "code",
   "execution_count": null,
   "id": "2b2a082c",
   "metadata": {},
   "outputs": [],
   "source": []
  }
 ],
 "metadata": {
  "kernelspec": {
   "display_name": "Python 3 (ipykernel)",
   "language": "python",
   "name": "python3"
  },
  "language_info": {
   "codemirror_mode": {
    "name": "ipython",
    "version": 3
   },
   "file_extension": ".py",
   "mimetype": "text/x-python",
   "name": "python",
   "nbconvert_exporter": "python",
   "pygments_lexer": "ipython3",
   "version": "3.9.13"
  }
 },
 "nbformat": 4,
 "nbformat_minor": 5
}

{
 "cells": [
  {
   "cell_type": "markdown",
   "id": "d32a578e",
   "metadata": {},
   "source": [
    "# Outliers"
   ]
  },
  {
   "cell_type": "code",
   "execution_count": 2,
   "id": "27add623",
   "metadata": {},
   "outputs": [
    {
     "name": "stdout",
     "output_type": "stream",
     "text": [
      "[14 19 20 22 24 26 27 30 30 31 36 38 44 47]\n"
     ]
    }
   ],
   "source": [
    "import numpy as np \n",
    "import scipy.stats as stats \n",
    "#define array of data \n",
    "data = np.array([14, 19, 20, 22, 24, 26, 27, 30, 30, 31, 36, 38, 44, 47]) \n",
    "\n",
    "print(data)"
   ]
  },
  {
   "cell_type": "code",
   "execution_count": 3,
   "id": "ae27e12c",
   "metadata": {},
   "outputs": [],
   "source": [
    "q3, q1 = np.quantile(data, [0.75, 0.25])"
   ]
  },
  {
   "cell_type": "code",
   "execution_count": 4,
   "id": "b6fd14bc",
   "metadata": {},
   "outputs": [
    {
     "name": "stdout",
     "output_type": "stream",
     "text": [
      "34.75\n",
      "22.5\n"
     ]
    }
   ],
   "source": [
    "print(q3)\n",
    "print(q1)"
   ]
  },
  {
   "cell_type": "code",
   "execution_count": 8,
   "id": "d3553e7c",
   "metadata": {},
   "outputs": [
    {
     "name": "stdout",
     "output_type": "stream",
     "text": [
      "12.25\n",
      "[1.65101824 1.10587071 0.9968412  0.77878219 0.56072318 0.34266416\n",
      " 0.23363466 0.09345386 0.09345386 0.20248337 0.7476309  0.96568991\n",
      " 1.61986695 1.94695547]\n",
      "[14 19 20 22 24 26 27 30 30 31 36 38 44 47]\n"
     ]
    }
   ],
   "source": [
    "q3, q1 = np.quantile(data,[0.75,0.25]) \n",
    "iqr = q3 - q1 #display interquartile range \n",
    "print(iqr)\n",
    "z = np.abs(stats.zscore(data)) \n",
    "print(z)\n",
    "data_clean = data[(abs(z)<=3)]\n",
    "print(data_clean)"
   ]
  },
  {
   "cell_type": "code",
   "execution_count": null,
   "id": "914a685d",
   "metadata": {},
   "outputs": [],
   "source": []
  }
 ],
 "metadata": {
  "kernelspec": {
   "display_name": "Python 3 (ipykernel)",
   "language": "python",
   "name": "python3"
  },
  "language_info": {
   "codemirror_mode": {
    "name": "ipython",
    "version": 3
   },
   "file_extension": ".py",
   "mimetype": "text/x-python",
   "name": "python",
   "nbconvert_exporter": "python",
   "pygments_lexer": "ipython3",
   "version": "3.9.13"
  }
 },
 "nbformat": 4,
 "nbformat_minor": 5
}

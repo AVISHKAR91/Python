{
 "cells": [
  {
   "cell_type": "markdown",
   "id": "e94d3e1e",
   "metadata": {},
   "source": [
    "# Poisson Distribution"
   ]
  },
  {
   "cell_type": "code",
   "execution_count": 2,
   "id": "30243aff",
   "metadata": {},
   "outputs": [
    {
     "data": {
      "text/plain": [
       "0.17299160788207146"
      ]
     },
     "execution_count": 2,
     "metadata": {},
     "output_type": "execute_result"
    }
   ],
   "source": [
    "from scipy.stats import poisson \n",
    "#calculate probability, pmf = Probability mass function \n",
    "poisson.pmf(k=5, mu=3) \n",
    "#Output => 0.100819 \n",
    "#calculate probability. Cdf = Cumulative distribution function .\n",
    "poisson.cdf(k=4, mu=7) \n",
    "#Output =>0.8152632445237722\n"
   ]
  },
  {
   "cell_type": "code",
   "execution_count": null,
   "id": "dc810d4e",
   "metadata": {},
   "outputs": [],
   "source": []
  }
 ],
 "metadata": {
  "kernelspec": {
   "display_name": "Python 3 (ipykernel)",
   "language": "python",
   "name": "python3"
  },
  "language_info": {
   "codemirror_mode": {
    "name": "ipython",
    "version": 3
   },
   "file_extension": ".py",
   "mimetype": "text/x-python",
   "name": "python",
   "nbconvert_exporter": "python",
   "pygments_lexer": "ipython3",
   "version": "3.9.13"
  }
 },
 "nbformat": 4,
 "nbformat_minor": 5
}
